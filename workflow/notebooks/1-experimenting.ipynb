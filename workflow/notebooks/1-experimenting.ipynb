{
 "cells": [
  {
   "cell_type": "markdown",
   "id": "99fdaaf8",
   "metadata": {},
   "source": [
    "# 1-Experimenting"
   ]
  },
  {
   "cell_type": "code",
   "execution_count": 1,
   "id": "a5f2f98e",
   "metadata": {},
   "outputs": [
    {
     "data": {
      "text/plain": [
       "<function print>"
      ]
     },
     "execution_count": 1,
     "metadata": {},
     "output_type": "execute_result"
    }
   ],
   "source": []
  }
 ],
 "metadata": {
  "kernelspec": {
   "display_name": "experimenting",
   "language": "python",
   "name": "python3"
  },
  "language_info": {
   "codemirror_mode": {
    "name": "ipython",
    "version": 3
   },
   "file_extension": ".py",
   "mimetype": "text/x-python",
   "name": "python",
   "nbconvert_exporter": "python",
   "pygments_lexer": "ipython3",
   "version": "3.10.18"
  }
 },
 "nbformat": 4,
 "nbformat_minor": 5
}
