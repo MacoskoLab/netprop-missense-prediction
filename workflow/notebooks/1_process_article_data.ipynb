{
 "cells": [
  {
   "cell_type": "markdown",
   "id": "cdf16a20",
   "metadata": {},
   "source": [
    "# Process Data from Article for Pipeline\n",
    "\n",
    "separate into WT and MT gene expression matrices\n",
    "\n",
    "https://www.nature.com/articles/s41588-022-01179-9\n",
    "\n",
    "https://www.ncbi.nlm.nih.gov/geo/query/acc.cgi?acc=GSE158067"
   ]
  },
  {
   "cell_type": "code",
   "execution_count": null,
   "id": "d31e5049",
   "metadata": {},
   "outputs": [],
   "source": [
    "import pandas as pd\n",
    "\n",
    "expr = pd.read_csv(\n",
    "    \"../../resources/GSE158067/original/GSE158067_gene_exp_mtx.txt\",\n",
    "    sep=\" \",\n",
    "    index_col=0,\n",
    ")\n",
    "expr"
   ]
  },
  {
   "cell_type": "code",
   "execution_count": null,
   "id": "d5cf3894",
   "metadata": {},
   "outputs": [],
   "source": [
    "expr.to_csv(\"../../resources/GSE158067/GSE158067_gene_exp_mtx.txt\", sep=\"\\t\")"
   ]
  },
  {
   "cell_type": "code",
   "execution_count": null,
   "id": "cf5bd9dc",
   "metadata": {},
   "outputs": [],
   "source": [
    "meta = pd.read_excel(\n",
    "    \"../../resources/GSE158067/original/GSE158067_scRNA_cell_metadata.xlsx\",\n",
    "    engine=\"calamine\",\n",
    "    index_col=0,\n",
    "    skiprows=1,\n",
    ")\n",
    "meta"
   ]
  },
  {
   "cell_type": "code",
   "execution_count": null,
   "id": "d4cd5776",
   "metadata": {},
   "outputs": [],
   "source": [
    "mt_cells = meta[meta[\"Genotype\"] == \"Mutant\"].index.tolist()\n",
    "wt_cells = meta[meta[\"Genotype\"] == \"WT\"].index.tolist()\n",
    "genotyped_cells = meta[meta[\"Genotype\"] != \"not_genotyped\"].index.tolist()\n",
    "len(mt_cells), len(wt_cells), len(genotyped_cells)"
   ]
  },
  {
   "cell_type": "markdown",
   "id": "1682c5b0",
   "metadata": {},
   "source": [
    "balanced data!"
   ]
  },
  {
   "cell_type": "code",
   "execution_count": null,
   "id": "609b03a7",
   "metadata": {},
   "outputs": [],
   "source": [
    "expr_mt = expr[mt_cells]\n",
    "expr_mt"
   ]
  },
  {
   "cell_type": "code",
   "execution_count": null,
   "id": "2dc75b7f",
   "metadata": {},
   "outputs": [],
   "source": [
    "expr_wt = expr[wt_cells]\n",
    "expr_wt"
   ]
  },
  {
   "cell_type": "code",
   "execution_count": null,
   "id": "7e5d46d2",
   "metadata": {},
   "outputs": [],
   "source": [
    "expr_filtered = expr[genotyped_cells]\n",
    "expr_filtered"
   ]
  },
  {
   "cell_type": "code",
   "execution_count": null,
   "id": "0be62d01",
   "metadata": {},
   "outputs": [],
   "source": [
    "expr_mt.to_csv(\n",
    "    \"../../resources/GSE158067/GSE158067_gene_exp_mtx_filtered_mt.txt\",\n",
    "    sep=\"\\t\",\n",
    "    header=True,\n",
    "    index=True,\n",
    ")\n",
    "expr_wt.to_csv(\n",
    "    \"../../resources/GSE158067/GSE158067_gene_exp_mtx_filtered_wt.txt\",\n",
    "    sep=\"\\t\",\n",
    "    header=True,\n",
    "    index=True,\n",
    ")\n",
    "expr_filtered.to_csv(\n",
    "    \"../../resources/GSE158067/GSE158067_gene_exp_mtx_filtered.txt\",\n",
    "    sep=\"\\t\",\n",
    "    header=True,\n",
    "    index=True,\n",
    ")"
   ]
  },
  {
   "cell_type": "code",
   "execution_count": null,
   "id": "af8b1071",
   "metadata": {},
   "outputs": [],
   "source": [
    "perturbations_list = meta.copy().reset_index()\n",
    "perturbations_list[\"Perturbation\"] = perturbations_list[\"Genotype\"].apply(\n",
    "    lambda x: {\"Mutant\": \"MT\", \"WT\": \"WT\", \"not_genotyped\": \"NG\"}[x]\n",
    ")\n",
    "perturbations_list = perturbations_list[[\"RNA_cell_ID\", \"Perturbation\"]]"
   ]
  },
  {
   "cell_type": "code",
   "execution_count": null,
   "id": "163abdf3",
   "metadata": {},
   "outputs": [],
   "source": [
    "perturbations_list.to_csv(\n",
    "    \"../../resources/GSE158067/GSE158067_cell_to_perturbation.tsv\",\n",
    "    sep=\"\\t\",\n",
    "    header=True,\n",
    "    index=False,\n",
    ")\n",
    "perturbations_list"
   ]
  },
  {
   "cell_type": "code",
   "execution_count": null,
   "id": "53bd7cdb",
   "metadata": {},
   "outputs": [],
   "source": []
  }
 ],
 "metadata": {
  "kernelspec": {
   "display_name": "experimenting",
   "language": "python",
   "name": "python3"
  },
  "language_info": {
   "codemirror_mode": {
    "name": "ipython",
    "version": 3
   },
   "file_extension": ".py",
   "mimetype": "text/x-python",
   "name": "python",
   "nbconvert_exporter": "python",
   "pygments_lexer": "ipython3",
   "version": "3.10.18"
  }
 },
 "nbformat": 4,
 "nbformat_minor": 5
}
