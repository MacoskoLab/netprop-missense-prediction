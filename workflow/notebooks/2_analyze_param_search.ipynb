{
 "cells": [
  {
   "cell_type": "markdown",
   "id": "62af383e",
   "metadata": {},
   "source": [
    "# See if searching over different perturbation algorithm parameters does anything"
   ]
  },
  {
   "cell_type": "code",
   "execution_count": null,
   "id": "34381036",
   "metadata": {},
   "outputs": [],
   "source": [
    "import pandas as pd\n",
    "import plotly.express as px\n",
    "import seaborn as sns\n",
    "import matplotlib.pyplot as plt\n",
    "import numpy as np"
   ]
  },
  {
   "cell_type": "code",
   "execution_count": null,
   "id": "e9a3f17a",
   "metadata": {},
   "outputs": [],
   "source": [
    "def load_comparison_matrix(run_name: str) -> pd.DataFrame:\n",
    "    return pd.read_csv(\n",
    "        f\"../../results/{run_name}/evaluation/weight_matrices_comparison.tsv\", sep=\"\\t\"\n",
    "    )"
   ]
  },
  {
   "cell_type": "markdown",
   "id": "f52d7977",
   "metadata": {},
   "source": [
    "## Does the number of steps matter?"
   ]
  },
  {
   "cell_type": "code",
   "execution_count": null,
   "id": "7107a95f",
   "metadata": {},
   "outputs": [],
   "source": [
    "run_name = \"steps_1_to_100_1\"\n",
    "# run_name = \"grid_search_real_1\"\n",
    "steps_1_to_100 = load_comparison_matrix(run_name)\n",
    "steps_1_to_100.head()"
   ]
  },
  {
   "cell_type": "code",
   "execution_count": null,
   "id": "0abb2d75",
   "metadata": {},
   "outputs": [],
   "source": [
    "steps_1_to_100.loc[\n",
    "    (steps_1_to_100[\"matrix1\"] == \"real_perturbed\")\n",
    "    & (steps_1_to_100[\"matrix2\"] == \"predicted_perturbed\")\n",
    "]"
   ]
  },
  {
   "cell_type": "code",
   "execution_count": null,
   "id": "cd2134f1",
   "metadata": {},
   "outputs": [],
   "source": [
    "px.line(\n",
    "    steps_1_to_100.loc[\n",
    "        (steps_1_to_100[\"matrix1\"] == \"real_perturbed\")\n",
    "        & (steps_1_to_100[\"matrix2\"] == \"predicted_perturbed\")\n",
    "    ],\n",
    "    x=\"steps\",\n",
    "    y=\"euclidean_distance\",\n",
    "    title=\"Score vs Step for Different Perturbation Steps (Euclidean Distance)\",\n",
    "    color=\"score_transform\",\n",
    "    log_y=True,\n",
    ").show()"
   ]
  },
  {
   "cell_type": "code",
   "execution_count": null,
   "id": "4d8d6d3b",
   "metadata": {},
   "outputs": [],
   "source": [
    "px.line(\n",
    "    steps_1_to_100.loc[\n",
    "        (steps_1_to_100[\"matrix1\"] == \"real_perturbed\")\n",
    "        & (steps_1_to_100[\"matrix2\"] == \"predicted_perturbed\")\n",
    "    ],\n",
    "    x=\"steps\",\n",
    "    y=\"wasserstein_distance\",\n",
    "    title=\"Score vs Step for Different Perturbation Steps (Wasserstein Distance)\",\n",
    "    color=\"score_transform\",\n",
    "    log_y=True,\n",
    ").show()"
   ]
  },
  {
   "cell_type": "code",
   "execution_count": null,
   "id": "02381726",
   "metadata": {},
   "outputs": [],
   "source": [
    "px.line(\n",
    "    steps_1_to_100.loc[\n",
    "        (steps_1_to_100[\"matrix1\"] == \"real_perturbed\")\n",
    "        & (steps_1_to_100[\"matrix2\"] == \"predicted_perturbed\")\n",
    "    ],\n",
    "    x=\"steps\",\n",
    "    y=\"energy_distance\",\n",
    "    title=\"Score vs Step for Different Perturbation Steps (Energy Distance)\",\n",
    "    color=\"score_transform\",\n",
    "    log_y=True,\n",
    ").show()"
   ]
  },
  {
   "cell_type": "markdown",
   "id": "d51ddee5",
   "metadata": {},
   "source": [
    "## Bar charts"
   ]
  },
  {
   "cell_type": "code",
   "execution_count": null,
   "id": "65fad10e",
   "metadata": {},
   "outputs": [],
   "source": [
    "comp = load_comparison_matrix(\n",
    "    \"GSE158067_perturbation_prediction_with_step_by_step_eval_screen-2\"\n",
    ")\n",
    "comp"
   ]
  },
  {
   "cell_type": "code",
   "execution_count": null,
   "id": "461b3bc0",
   "metadata": {},
   "outputs": [],
   "source": [
    "def make_bar_chart(df, distance_type: str):\n",
    "    df = df.copy()\n",
    "    df[[\"matrix1\", \"matrix2\"]] = df[[\"matrix1\", \"matrix2\"]].map(\n",
    "        lambda x: \" \".join(x.split(\"_\")[:-1]).title()\n",
    "    )\n",
    "    colnames = df[\"matrix1\"] + \" vs \" + df[\"matrix2\"]\n",
    "    distances = df[distance_type]\n",
    "    px.bar(\n",
    "        x=colnames,\n",
    "        y=distances,\n",
    "        title=f'Perturbation Prediction Evaluation ({distance_type.replace(\"_\", \" \").title()})',\n",
    "        labels={\"x\": \"Matrix Comparison\", \"y\": distance_type.replace(\"_\", \" \").title()},\n",
    "        log_y=True,\n",
    "    ).show()\n",
    "\n",
    "\n",
    "make_bar_chart(comp, \"wasserstein_distance\")\n",
    "make_bar_chart(comp, \"euclidean_distance\")\n",
    "make_bar_chart(comp, \"energy_distance\")"
   ]
  },
  {
   "cell_type": "code",
   "execution_count": null,
   "id": "f76013e2",
   "metadata": {},
   "outputs": [],
   "source": []
  }
 ],
 "metadata": {
  "kernelspec": {
   "display_name": "experimenting",
   "language": "python",
   "name": "python3"
  },
  "language_info": {
   "codemirror_mode": {
    "name": "ipython",
    "version": 3
   },
   "file_extension": ".py",
   "mimetype": "text/x-python",
   "name": "python",
   "nbconvert_exporter": "python",
   "pygments_lexer": "ipython3",
   "version": "3.10.18"
  }
 },
 "nbformat": 4,
 "nbformat_minor": 5
}
