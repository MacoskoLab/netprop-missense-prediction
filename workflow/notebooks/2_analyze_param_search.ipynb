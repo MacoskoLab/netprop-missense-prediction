{
 "cells": [
  {
   "cell_type": "markdown",
   "id": "62af383e",
   "metadata": {},
   "source": [
    "# See if searching over different perturbation algorithm parameters does anything"
   ]
  },
  {
   "cell_type": "code",
   "execution_count": 1,
   "id": "34381036",
   "metadata": {},
   "outputs": [],
   "source": [
    "import pandas as pd\n",
    "import plotly.express as px\n",
    "import seaborn as sns\n",
    "import matplotlib.pyplot as plt\n",
    "import numpy as np"
   ]
  },
  {
   "cell_type": "code",
   "execution_count": 3,
   "id": "7107a95f",
   "metadata": {},
   "outputs": [
    {
     "data": {
      "text/html": [
       "<div>\n",
       "<style scoped>\n",
       "    .dataframe tbody tr th:only-of-type {\n",
       "        vertical-align: middle;\n",
       "    }\n",
       "\n",
       "    .dataframe tbody tr th {\n",
       "        vertical-align: top;\n",
       "    }\n",
       "\n",
       "    .dataframe thead th {\n",
       "        text-align: right;\n",
       "    }\n",
       "</style>\n",
       "<table border=\"1\" class=\"dataframe\">\n",
       "  <thead>\n",
       "    <tr style=\"text-align: right;\">\n",
       "      <th></th>\n",
       "      <th>matrix1</th>\n",
       "      <th>matrix2</th>\n",
       "      <th>euclidean_distance</th>\n",
       "      <th>wasserstein_distance</th>\n",
       "      <th>energy_distance</th>\n",
       "      <th>combination_id</th>\n",
       "      <th>steps</th>\n",
       "      <th>score_transform</th>\n",
       "      <th>threshold</th>\n",
       "      <th>steepness</th>\n",
       "      <th>midpoint</th>\n",
       "    </tr>\n",
       "  </thead>\n",
       "  <tbody>\n",
       "    <tr>\n",
       "      <th>0</th>\n",
       "      <td>real_perturbed</td>\n",
       "      <td>real_unperturbed</td>\n",
       "      <td>4.561490</td>\n",
       "      <td>1.463655e-06</td>\n",
       "      <td>0.000088</td>\n",
       "      <td>0</td>\n",
       "      <td>1</td>\n",
       "      <td>threshold</td>\n",
       "      <td>0.5</td>\n",
       "      <td>NaN</td>\n",
       "      <td>NaN</td>\n",
       "    </tr>\n",
       "    <tr>\n",
       "      <th>1</th>\n",
       "      <td>real_perturbed</td>\n",
       "      <td>predicted_perturbed</td>\n",
       "      <td>4.561419</td>\n",
       "      <td>1.458840e-06</td>\n",
       "      <td>0.000089</td>\n",
       "      <td>0</td>\n",
       "      <td>1</td>\n",
       "      <td>threshold</td>\n",
       "      <td>0.5</td>\n",
       "      <td>NaN</td>\n",
       "      <td>NaN</td>\n",
       "    </tr>\n",
       "    <tr>\n",
       "      <th>2</th>\n",
       "      <td>real_unperturbed</td>\n",
       "      <td>predicted_perturbed</td>\n",
       "      <td>0.057107</td>\n",
       "      <td>4.044108e-08</td>\n",
       "      <td>0.000002</td>\n",
       "      <td>0</td>\n",
       "      <td>1</td>\n",
       "      <td>threshold</td>\n",
       "      <td>0.5</td>\n",
       "      <td>NaN</td>\n",
       "      <td>NaN</td>\n",
       "    </tr>\n",
       "    <tr>\n",
       "      <th>3</th>\n",
       "      <td>real_perturbed</td>\n",
       "      <td>real_unperturbed</td>\n",
       "      <td>4.561490</td>\n",
       "      <td>1.463655e-06</td>\n",
       "      <td>0.000088</td>\n",
       "      <td>1</td>\n",
       "      <td>1</td>\n",
       "      <td>threshold</td>\n",
       "      <td>0.6</td>\n",
       "      <td>NaN</td>\n",
       "      <td>NaN</td>\n",
       "    </tr>\n",
       "    <tr>\n",
       "      <th>4</th>\n",
       "      <td>real_perturbed</td>\n",
       "      <td>predicted_perturbed</td>\n",
       "      <td>4.561418</td>\n",
       "      <td>1.458827e-06</td>\n",
       "      <td>0.000089</td>\n",
       "      <td>1</td>\n",
       "      <td>1</td>\n",
       "      <td>threshold</td>\n",
       "      <td>0.6</td>\n",
       "      <td>NaN</td>\n",
       "      <td>NaN</td>\n",
       "    </tr>\n",
       "  </tbody>\n",
       "</table>\n",
       "</div>"
      ],
      "text/plain": [
       "            matrix1              matrix2  euclidean_distance  \\\n",
       "0    real_perturbed     real_unperturbed            4.561490   \n",
       "1    real_perturbed  predicted_perturbed            4.561419   \n",
       "2  real_unperturbed  predicted_perturbed            0.057107   \n",
       "3    real_perturbed     real_unperturbed            4.561490   \n",
       "4    real_perturbed  predicted_perturbed            4.561418   \n",
       "\n",
       "   wasserstein_distance  energy_distance  combination_id  steps  \\\n",
       "0          1.463655e-06         0.000088               0      1   \n",
       "1          1.458840e-06         0.000089               0      1   \n",
       "2          4.044108e-08         0.000002               0      1   \n",
       "3          1.463655e-06         0.000088               1      1   \n",
       "4          1.458827e-06         0.000089               1      1   \n",
       "\n",
       "  score_transform  threshold  steepness  midpoint  \n",
       "0       threshold        0.5        NaN       NaN  \n",
       "1       threshold        0.5        NaN       NaN  \n",
       "2       threshold        0.5        NaN       NaN  \n",
       "3       threshold        0.6        NaN       NaN  \n",
       "4       threshold        0.6        NaN       NaN  "
      ]
     },
     "execution_count": 3,
     "metadata": {},
     "output_type": "execute_result"
    }
   ],
   "source": [
    "run_name = \"steps_1_to_100_1\"\n",
    "run_name = \"grid_search_real_1\"\n",
    "steps_1_to_100 = pd.read_csv(\n",
    "    f\"../../results/{run_name}/evaluation/weight_matrices_comparison.tsv\", sep=\"\\t\"\n",
    ")\n",
    "steps_1_to_100.head()"
   ]
  },
  {
   "cell_type": "code",
   "execution_count": 6,
   "id": "0abb2d75",
   "metadata": {},
   "outputs": [
    {
     "data": {
      "text/html": [
       "<div>\n",
       "<style scoped>\n",
       "    .dataframe tbody tr th:only-of-type {\n",
       "        vertical-align: middle;\n",
       "    }\n",
       "\n",
       "    .dataframe tbody tr th {\n",
       "        vertical-align: top;\n",
       "    }\n",
       "\n",
       "    .dataframe thead th {\n",
       "        text-align: right;\n",
       "    }\n",
       "</style>\n",
       "<table border=\"1\" class=\"dataframe\">\n",
       "  <thead>\n",
       "    <tr style=\"text-align: right;\">\n",
       "      <th></th>\n",
       "      <th>matrix1</th>\n",
       "      <th>matrix2</th>\n",
       "      <th>euclidean_distance</th>\n",
       "      <th>wasserstein_distance</th>\n",
       "      <th>energy_distance</th>\n",
       "      <th>combination_id</th>\n",
       "      <th>steps</th>\n",
       "      <th>score_transform</th>\n",
       "      <th>threshold</th>\n",
       "      <th>steepness</th>\n",
       "      <th>midpoint</th>\n",
       "    </tr>\n",
       "  </thead>\n",
       "  <tbody>\n",
       "    <tr>\n",
       "      <th>1</th>\n",
       "      <td>real_perturbed</td>\n",
       "      <td>predicted_perturbed</td>\n",
       "      <td>4.561419</td>\n",
       "      <td>0.000001</td>\n",
       "      <td>0.000089</td>\n",
       "      <td>0</td>\n",
       "      <td>1</td>\n",
       "      <td>threshold</td>\n",
       "      <td>0.5</td>\n",
       "      <td>NaN</td>\n",
       "      <td>NaN</td>\n",
       "    </tr>\n",
       "    <tr>\n",
       "      <th>4</th>\n",
       "      <td>real_perturbed</td>\n",
       "      <td>predicted_perturbed</td>\n",
       "      <td>4.561418</td>\n",
       "      <td>0.000001</td>\n",
       "      <td>0.000089</td>\n",
       "      <td>1</td>\n",
       "      <td>1</td>\n",
       "      <td>threshold</td>\n",
       "      <td>0.6</td>\n",
       "      <td>NaN</td>\n",
       "      <td>NaN</td>\n",
       "    </tr>\n",
       "    <tr>\n",
       "      <th>7</th>\n",
       "      <td>real_perturbed</td>\n",
       "      <td>predicted_perturbed</td>\n",
       "      <td>4.561417</td>\n",
       "      <td>0.000001</td>\n",
       "      <td>0.000089</td>\n",
       "      <td>2</td>\n",
       "      <td>1</td>\n",
       "      <td>threshold</td>\n",
       "      <td>0.7</td>\n",
       "      <td>NaN</td>\n",
       "      <td>NaN</td>\n",
       "    </tr>\n",
       "    <tr>\n",
       "      <th>10</th>\n",
       "      <td>real_perturbed</td>\n",
       "      <td>predicted_perturbed</td>\n",
       "      <td>4.561414</td>\n",
       "      <td>0.000001</td>\n",
       "      <td>0.000089</td>\n",
       "      <td>3</td>\n",
       "      <td>2</td>\n",
       "      <td>threshold</td>\n",
       "      <td>0.5</td>\n",
       "      <td>NaN</td>\n",
       "      <td>NaN</td>\n",
       "    </tr>\n",
       "    <tr>\n",
       "      <th>13</th>\n",
       "      <td>real_perturbed</td>\n",
       "      <td>predicted_perturbed</td>\n",
       "      <td>4.561412</td>\n",
       "      <td>0.000001</td>\n",
       "      <td>0.000089</td>\n",
       "      <td>4</td>\n",
       "      <td>2</td>\n",
       "      <td>threshold</td>\n",
       "      <td>0.6</td>\n",
       "      <td>NaN</td>\n",
       "      <td>NaN</td>\n",
       "    </tr>\n",
       "    <tr>\n",
       "      <th>16</th>\n",
       "      <td>real_perturbed</td>\n",
       "      <td>predicted_perturbed</td>\n",
       "      <td>4.561409</td>\n",
       "      <td>0.000001</td>\n",
       "      <td>0.000089</td>\n",
       "      <td>5</td>\n",
       "      <td>2</td>\n",
       "      <td>threshold</td>\n",
       "      <td>0.7</td>\n",
       "      <td>NaN</td>\n",
       "      <td>NaN</td>\n",
       "    </tr>\n",
       "    <tr>\n",
       "      <th>19</th>\n",
       "      <td>real_perturbed</td>\n",
       "      <td>predicted_perturbed</td>\n",
       "      <td>4.561404</td>\n",
       "      <td>0.000001</td>\n",
       "      <td>0.000089</td>\n",
       "      <td>6</td>\n",
       "      <td>3</td>\n",
       "      <td>threshold</td>\n",
       "      <td>0.5</td>\n",
       "      <td>NaN</td>\n",
       "      <td>NaN</td>\n",
       "    </tr>\n",
       "    <tr>\n",
       "      <th>22</th>\n",
       "      <td>real_perturbed</td>\n",
       "      <td>predicted_perturbed</td>\n",
       "      <td>4.561400</td>\n",
       "      <td>0.000001</td>\n",
       "      <td>0.000089</td>\n",
       "      <td>7</td>\n",
       "      <td>3</td>\n",
       "      <td>threshold</td>\n",
       "      <td>0.6</td>\n",
       "      <td>NaN</td>\n",
       "      <td>NaN</td>\n",
       "    </tr>\n",
       "    <tr>\n",
       "      <th>25</th>\n",
       "      <td>real_perturbed</td>\n",
       "      <td>predicted_perturbed</td>\n",
       "      <td>4.561393</td>\n",
       "      <td>0.000001</td>\n",
       "      <td>0.000089</td>\n",
       "      <td>8</td>\n",
       "      <td>3</td>\n",
       "      <td>threshold</td>\n",
       "      <td>0.7</td>\n",
       "      <td>NaN</td>\n",
       "      <td>NaN</td>\n",
       "    </tr>\n",
       "    <tr>\n",
       "      <th>28</th>\n",
       "      <td>real_perturbed</td>\n",
       "      <td>predicted_perturbed</td>\n",
       "      <td>4.561405</td>\n",
       "      <td>0.000001</td>\n",
       "      <td>0.000089</td>\n",
       "      <td>9</td>\n",
       "      <td>1</td>\n",
       "      <td>sigmoid</td>\n",
       "      <td>NaN</td>\n",
       "      <td>5.0</td>\n",
       "      <td>0.3</td>\n",
       "    </tr>\n",
       "    <tr>\n",
       "      <th>31</th>\n",
       "      <td>real_perturbed</td>\n",
       "      <td>predicted_perturbed</td>\n",
       "      <td>4.561379</td>\n",
       "      <td>0.000001</td>\n",
       "      <td>0.000089</td>\n",
       "      <td>10</td>\n",
       "      <td>1</td>\n",
       "      <td>sigmoid</td>\n",
       "      <td>NaN</td>\n",
       "      <td>5.0</td>\n",
       "      <td>0.5</td>\n",
       "    </tr>\n",
       "    <tr>\n",
       "      <th>34</th>\n",
       "      <td>real_perturbed</td>\n",
       "      <td>predicted_perturbed</td>\n",
       "      <td>4.561320</td>\n",
       "      <td>0.000001</td>\n",
       "      <td>0.000089</td>\n",
       "      <td>11</td>\n",
       "      <td>1</td>\n",
       "      <td>sigmoid</td>\n",
       "      <td>NaN</td>\n",
       "      <td>5.0</td>\n",
       "      <td>0.7</td>\n",
       "    </tr>\n",
       "    <tr>\n",
       "      <th>37</th>\n",
       "      <td>real_perturbed</td>\n",
       "      <td>predicted_perturbed</td>\n",
       "      <td>4.561421</td>\n",
       "      <td>0.000001</td>\n",
       "      <td>0.000089</td>\n",
       "      <td>12</td>\n",
       "      <td>1</td>\n",
       "      <td>sigmoid</td>\n",
       "      <td>NaN</td>\n",
       "      <td>10.0</td>\n",
       "      <td>0.3</td>\n",
       "    </tr>\n",
       "    <tr>\n",
       "      <th>40</th>\n",
       "      <td>real_perturbed</td>\n",
       "      <td>predicted_perturbed</td>\n",
       "      <td>4.561418</td>\n",
       "      <td>0.000001</td>\n",
       "      <td>0.000089</td>\n",
       "      <td>13</td>\n",
       "      <td>1</td>\n",
       "      <td>sigmoid</td>\n",
       "      <td>NaN</td>\n",
       "      <td>10.0</td>\n",
       "      <td>0.5</td>\n",
       "    </tr>\n",
       "    <tr>\n",
       "      <th>43</th>\n",
       "      <td>real_perturbed</td>\n",
       "      <td>predicted_perturbed</td>\n",
       "      <td>4.561395</td>\n",
       "      <td>0.000001</td>\n",
       "      <td>0.000089</td>\n",
       "      <td>14</td>\n",
       "      <td>1</td>\n",
       "      <td>sigmoid</td>\n",
       "      <td>NaN</td>\n",
       "      <td>10.0</td>\n",
       "      <td>0.7</td>\n",
       "    </tr>\n",
       "    <tr>\n",
       "      <th>46</th>\n",
       "      <td>real_perturbed</td>\n",
       "      <td>predicted_perturbed</td>\n",
       "      <td>4.561421</td>\n",
       "      <td>0.000001</td>\n",
       "      <td>0.000089</td>\n",
       "      <td>15</td>\n",
       "      <td>1</td>\n",
       "      <td>sigmoid</td>\n",
       "      <td>NaN</td>\n",
       "      <td>15.0</td>\n",
       "      <td>0.3</td>\n",
       "    </tr>\n",
       "    <tr>\n",
       "      <th>49</th>\n",
       "      <td>real_perturbed</td>\n",
       "      <td>predicted_perturbed</td>\n",
       "      <td>4.561421</td>\n",
       "      <td>0.000001</td>\n",
       "      <td>0.000089</td>\n",
       "      <td>16</td>\n",
       "      <td>1</td>\n",
       "      <td>sigmoid</td>\n",
       "      <td>NaN</td>\n",
       "      <td>15.0</td>\n",
       "      <td>0.5</td>\n",
       "    </tr>\n",
       "    <tr>\n",
       "      <th>52</th>\n",
       "      <td>real_perturbed</td>\n",
       "      <td>predicted_perturbed</td>\n",
       "      <td>4.561415</td>\n",
       "      <td>0.000001</td>\n",
       "      <td>0.000089</td>\n",
       "      <td>17</td>\n",
       "      <td>1</td>\n",
       "      <td>sigmoid</td>\n",
       "      <td>NaN</td>\n",
       "      <td>15.0</td>\n",
       "      <td>0.7</td>\n",
       "    </tr>\n",
       "    <tr>\n",
       "      <th>55</th>\n",
       "      <td>real_perturbed</td>\n",
       "      <td>predicted_perturbed</td>\n",
       "      <td>4.561374</td>\n",
       "      <td>0.000001</td>\n",
       "      <td>0.000089</td>\n",
       "      <td>18</td>\n",
       "      <td>2</td>\n",
       "      <td>sigmoid</td>\n",
       "      <td>NaN</td>\n",
       "      <td>5.0</td>\n",
       "      <td>0.3</td>\n",
       "    </tr>\n",
       "    <tr>\n",
       "      <th>58</th>\n",
       "      <td>real_perturbed</td>\n",
       "      <td>predicted_perturbed</td>\n",
       "      <td>4.561295</td>\n",
       "      <td>0.000001</td>\n",
       "      <td>0.000089</td>\n",
       "      <td>19</td>\n",
       "      <td>2</td>\n",
       "      <td>sigmoid</td>\n",
       "      <td>NaN</td>\n",
       "      <td>5.0</td>\n",
       "      <td>0.5</td>\n",
       "    </tr>\n",
       "    <tr>\n",
       "      <th>61</th>\n",
       "      <td>real_perturbed</td>\n",
       "      <td>predicted_perturbed</td>\n",
       "      <td>4.561113</td>\n",
       "      <td>0.000001</td>\n",
       "      <td>0.000089</td>\n",
       "      <td>20</td>\n",
       "      <td>2</td>\n",
       "      <td>sigmoid</td>\n",
       "      <td>NaN</td>\n",
       "      <td>5.0</td>\n",
       "      <td>0.7</td>\n",
       "    </tr>\n",
       "    <tr>\n",
       "      <th>64</th>\n",
       "      <td>real_perturbed</td>\n",
       "      <td>predicted_perturbed</td>\n",
       "      <td>4.561420</td>\n",
       "      <td>0.000001</td>\n",
       "      <td>0.000089</td>\n",
       "      <td>21</td>\n",
       "      <td>2</td>\n",
       "      <td>sigmoid</td>\n",
       "      <td>NaN</td>\n",
       "      <td>10.0</td>\n",
       "      <td>0.3</td>\n",
       "    </tr>\n",
       "    <tr>\n",
       "      <th>67</th>\n",
       "      <td>real_perturbed</td>\n",
       "      <td>predicted_perturbed</td>\n",
       "      <td>4.561410</td>\n",
       "      <td>0.000001</td>\n",
       "      <td>0.000089</td>\n",
       "      <td>22</td>\n",
       "      <td>2</td>\n",
       "      <td>sigmoid</td>\n",
       "      <td>NaN</td>\n",
       "      <td>10.0</td>\n",
       "      <td>0.5</td>\n",
       "    </tr>\n",
       "    <tr>\n",
       "      <th>70</th>\n",
       "      <td>real_perturbed</td>\n",
       "      <td>predicted_perturbed</td>\n",
       "      <td>4.561339</td>\n",
       "      <td>0.000001</td>\n",
       "      <td>0.000089</td>\n",
       "      <td>23</td>\n",
       "      <td>2</td>\n",
       "      <td>sigmoid</td>\n",
       "      <td>NaN</td>\n",
       "      <td>10.0</td>\n",
       "      <td>0.7</td>\n",
       "    </tr>\n",
       "    <tr>\n",
       "      <th>73</th>\n",
       "      <td>real_perturbed</td>\n",
       "      <td>predicted_perturbed</td>\n",
       "      <td>4.561421</td>\n",
       "      <td>0.000001</td>\n",
       "      <td>0.000089</td>\n",
       "      <td>24</td>\n",
       "      <td>2</td>\n",
       "      <td>sigmoid</td>\n",
       "      <td>NaN</td>\n",
       "      <td>15.0</td>\n",
       "      <td>0.3</td>\n",
       "    </tr>\n",
       "    <tr>\n",
       "      <th>76</th>\n",
       "      <td>real_perturbed</td>\n",
       "      <td>predicted_perturbed</td>\n",
       "      <td>4.561420</td>\n",
       "      <td>0.000001</td>\n",
       "      <td>0.000089</td>\n",
       "      <td>25</td>\n",
       "      <td>2</td>\n",
       "      <td>sigmoid</td>\n",
       "      <td>NaN</td>\n",
       "      <td>15.0</td>\n",
       "      <td>0.5</td>\n",
       "    </tr>\n",
       "    <tr>\n",
       "      <th>79</th>\n",
       "      <td>real_perturbed</td>\n",
       "      <td>predicted_perturbed</td>\n",
       "      <td>4.561402</td>\n",
       "      <td>0.000001</td>\n",
       "      <td>0.000089</td>\n",
       "      <td>26</td>\n",
       "      <td>2</td>\n",
       "      <td>sigmoid</td>\n",
       "      <td>NaN</td>\n",
       "      <td>15.0</td>\n",
       "      <td>0.7</td>\n",
       "    </tr>\n",
       "    <tr>\n",
       "      <th>82</th>\n",
       "      <td>real_perturbed</td>\n",
       "      <td>predicted_perturbed</td>\n",
       "      <td>4.561318</td>\n",
       "      <td>0.000001</td>\n",
       "      <td>0.000089</td>\n",
       "      <td>27</td>\n",
       "      <td>3</td>\n",
       "      <td>sigmoid</td>\n",
       "      <td>NaN</td>\n",
       "      <td>5.0</td>\n",
       "      <td>0.3</td>\n",
       "    </tr>\n",
       "    <tr>\n",
       "      <th>85</th>\n",
       "      <td>real_perturbed</td>\n",
       "      <td>predicted_perturbed</td>\n",
       "      <td>4.561130</td>\n",
       "      <td>0.000001</td>\n",
       "      <td>0.000089</td>\n",
       "      <td>28</td>\n",
       "      <td>3</td>\n",
       "      <td>sigmoid</td>\n",
       "      <td>NaN</td>\n",
       "      <td>5.0</td>\n",
       "      <td>0.5</td>\n",
       "    </tr>\n",
       "    <tr>\n",
       "      <th>88</th>\n",
       "      <td>real_perturbed</td>\n",
       "      <td>predicted_perturbed</td>\n",
       "      <td>4.560698</td>\n",
       "      <td>0.000001</td>\n",
       "      <td>0.000089</td>\n",
       "      <td>29</td>\n",
       "      <td>3</td>\n",
       "      <td>sigmoid</td>\n",
       "      <td>NaN</td>\n",
       "      <td>5.0</td>\n",
       "      <td>0.7</td>\n",
       "    </tr>\n",
       "    <tr>\n",
       "      <th>91</th>\n",
       "      <td>real_perturbed</td>\n",
       "      <td>predicted_perturbed</td>\n",
       "      <td>4.561418</td>\n",
       "      <td>0.000001</td>\n",
       "      <td>0.000089</td>\n",
       "      <td>30</td>\n",
       "      <td>3</td>\n",
       "      <td>sigmoid</td>\n",
       "      <td>NaN</td>\n",
       "      <td>10.0</td>\n",
       "      <td>0.3</td>\n",
       "    </tr>\n",
       "    <tr>\n",
       "      <th>94</th>\n",
       "      <td>real_perturbed</td>\n",
       "      <td>predicted_perturbed</td>\n",
       "      <td>4.561394</td>\n",
       "      <td>0.000001</td>\n",
       "      <td>0.000089</td>\n",
       "      <td>31</td>\n",
       "      <td>3</td>\n",
       "      <td>sigmoid</td>\n",
       "      <td>NaN</td>\n",
       "      <td>10.0</td>\n",
       "      <td>0.5</td>\n",
       "    </tr>\n",
       "    <tr>\n",
       "      <th>97</th>\n",
       "      <td>real_perturbed</td>\n",
       "      <td>predicted_perturbed</td>\n",
       "      <td>4.561227</td>\n",
       "      <td>0.000001</td>\n",
       "      <td>0.000089</td>\n",
       "      <td>32</td>\n",
       "      <td>3</td>\n",
       "      <td>sigmoid</td>\n",
       "      <td>NaN</td>\n",
       "      <td>10.0</td>\n",
       "      <td>0.7</td>\n",
       "    </tr>\n",
       "    <tr>\n",
       "      <th>100</th>\n",
       "      <td>real_perturbed</td>\n",
       "      <td>predicted_perturbed</td>\n",
       "      <td>4.561421</td>\n",
       "      <td>0.000001</td>\n",
       "      <td>0.000089</td>\n",
       "      <td>33</td>\n",
       "      <td>3</td>\n",
       "      <td>sigmoid</td>\n",
       "      <td>NaN</td>\n",
       "      <td>15.0</td>\n",
       "      <td>0.3</td>\n",
       "    </tr>\n",
       "    <tr>\n",
       "      <th>103</th>\n",
       "      <td>real_perturbed</td>\n",
       "      <td>predicted_perturbed</td>\n",
       "      <td>4.561419</td>\n",
       "      <td>0.000001</td>\n",
       "      <td>0.000089</td>\n",
       "      <td>34</td>\n",
       "      <td>3</td>\n",
       "      <td>sigmoid</td>\n",
       "      <td>NaN</td>\n",
       "      <td>15.0</td>\n",
       "      <td>0.5</td>\n",
       "    </tr>\n",
       "    <tr>\n",
       "      <th>106</th>\n",
       "      <td>real_perturbed</td>\n",
       "      <td>predicted_perturbed</td>\n",
       "      <td>4.561376</td>\n",
       "      <td>0.000001</td>\n",
       "      <td>0.000089</td>\n",
       "      <td>35</td>\n",
       "      <td>3</td>\n",
       "      <td>sigmoid</td>\n",
       "      <td>NaN</td>\n",
       "      <td>15.0</td>\n",
       "      <td>0.7</td>\n",
       "    </tr>\n",
       "  </tbody>\n",
       "</table>\n",
       "</div>"
      ],
      "text/plain": [
       "            matrix1              matrix2  euclidean_distance  \\\n",
       "1    real_perturbed  predicted_perturbed            4.561419   \n",
       "4    real_perturbed  predicted_perturbed            4.561418   \n",
       "7    real_perturbed  predicted_perturbed            4.561417   \n",
       "10   real_perturbed  predicted_perturbed            4.561414   \n",
       "13   real_perturbed  predicted_perturbed            4.561412   \n",
       "16   real_perturbed  predicted_perturbed            4.561409   \n",
       "19   real_perturbed  predicted_perturbed            4.561404   \n",
       "22   real_perturbed  predicted_perturbed            4.561400   \n",
       "25   real_perturbed  predicted_perturbed            4.561393   \n",
       "28   real_perturbed  predicted_perturbed            4.561405   \n",
       "31   real_perturbed  predicted_perturbed            4.561379   \n",
       "34   real_perturbed  predicted_perturbed            4.561320   \n",
       "37   real_perturbed  predicted_perturbed            4.561421   \n",
       "40   real_perturbed  predicted_perturbed            4.561418   \n",
       "43   real_perturbed  predicted_perturbed            4.561395   \n",
       "46   real_perturbed  predicted_perturbed            4.561421   \n",
       "49   real_perturbed  predicted_perturbed            4.561421   \n",
       "52   real_perturbed  predicted_perturbed            4.561415   \n",
       "55   real_perturbed  predicted_perturbed            4.561374   \n",
       "58   real_perturbed  predicted_perturbed            4.561295   \n",
       "61   real_perturbed  predicted_perturbed            4.561113   \n",
       "64   real_perturbed  predicted_perturbed            4.561420   \n",
       "67   real_perturbed  predicted_perturbed            4.561410   \n",
       "70   real_perturbed  predicted_perturbed            4.561339   \n",
       "73   real_perturbed  predicted_perturbed            4.561421   \n",
       "76   real_perturbed  predicted_perturbed            4.561420   \n",
       "79   real_perturbed  predicted_perturbed            4.561402   \n",
       "82   real_perturbed  predicted_perturbed            4.561318   \n",
       "85   real_perturbed  predicted_perturbed            4.561130   \n",
       "88   real_perturbed  predicted_perturbed            4.560698   \n",
       "91   real_perturbed  predicted_perturbed            4.561418   \n",
       "94   real_perturbed  predicted_perturbed            4.561394   \n",
       "97   real_perturbed  predicted_perturbed            4.561227   \n",
       "100  real_perturbed  predicted_perturbed            4.561421   \n",
       "103  real_perturbed  predicted_perturbed            4.561419   \n",
       "106  real_perturbed  predicted_perturbed            4.561376   \n",
       "\n",
       "     wasserstein_distance  energy_distance  combination_id  steps  \\\n",
       "1                0.000001         0.000089               0      1   \n",
       "4                0.000001         0.000089               1      1   \n",
       "7                0.000001         0.000089               2      1   \n",
       "10               0.000001         0.000089               3      2   \n",
       "13               0.000001         0.000089               4      2   \n",
       "16               0.000001         0.000089               5      2   \n",
       "19               0.000001         0.000089               6      3   \n",
       "22               0.000001         0.000089               7      3   \n",
       "25               0.000001         0.000089               8      3   \n",
       "28               0.000001         0.000089               9      1   \n",
       "31               0.000001         0.000089              10      1   \n",
       "34               0.000001         0.000089              11      1   \n",
       "37               0.000001         0.000089              12      1   \n",
       "40               0.000001         0.000089              13      1   \n",
       "43               0.000001         0.000089              14      1   \n",
       "46               0.000001         0.000089              15      1   \n",
       "49               0.000001         0.000089              16      1   \n",
       "52               0.000001         0.000089              17      1   \n",
       "55               0.000001         0.000089              18      2   \n",
       "58               0.000001         0.000089              19      2   \n",
       "61               0.000001         0.000089              20      2   \n",
       "64               0.000001         0.000089              21      2   \n",
       "67               0.000001         0.000089              22      2   \n",
       "70               0.000001         0.000089              23      2   \n",
       "73               0.000001         0.000089              24      2   \n",
       "76               0.000001         0.000089              25      2   \n",
       "79               0.000001         0.000089              26      2   \n",
       "82               0.000001         0.000089              27      3   \n",
       "85               0.000001         0.000089              28      3   \n",
       "88               0.000001         0.000089              29      3   \n",
       "91               0.000001         0.000089              30      3   \n",
       "94               0.000001         0.000089              31      3   \n",
       "97               0.000001         0.000089              32      3   \n",
       "100              0.000001         0.000089              33      3   \n",
       "103              0.000001         0.000089              34      3   \n",
       "106              0.000001         0.000089              35      3   \n",
       "\n",
       "    score_transform  threshold  steepness  midpoint  \n",
       "1         threshold        0.5        NaN       NaN  \n",
       "4         threshold        0.6        NaN       NaN  \n",
       "7         threshold        0.7        NaN       NaN  \n",
       "10        threshold        0.5        NaN       NaN  \n",
       "13        threshold        0.6        NaN       NaN  \n",
       "16        threshold        0.7        NaN       NaN  \n",
       "19        threshold        0.5        NaN       NaN  \n",
       "22        threshold        0.6        NaN       NaN  \n",
       "25        threshold        0.7        NaN       NaN  \n",
       "28          sigmoid        NaN        5.0       0.3  \n",
       "31          sigmoid        NaN        5.0       0.5  \n",
       "34          sigmoid        NaN        5.0       0.7  \n",
       "37          sigmoid        NaN       10.0       0.3  \n",
       "40          sigmoid        NaN       10.0       0.5  \n",
       "43          sigmoid        NaN       10.0       0.7  \n",
       "46          sigmoid        NaN       15.0       0.3  \n",
       "49          sigmoid        NaN       15.0       0.5  \n",
       "52          sigmoid        NaN       15.0       0.7  \n",
       "55          sigmoid        NaN        5.0       0.3  \n",
       "58          sigmoid        NaN        5.0       0.5  \n",
       "61          sigmoid        NaN        5.0       0.7  \n",
       "64          sigmoid        NaN       10.0       0.3  \n",
       "67          sigmoid        NaN       10.0       0.5  \n",
       "70          sigmoid        NaN       10.0       0.7  \n",
       "73          sigmoid        NaN       15.0       0.3  \n",
       "76          sigmoid        NaN       15.0       0.5  \n",
       "79          sigmoid        NaN       15.0       0.7  \n",
       "82          sigmoid        NaN        5.0       0.3  \n",
       "85          sigmoid        NaN        5.0       0.5  \n",
       "88          sigmoid        NaN        5.0       0.7  \n",
       "91          sigmoid        NaN       10.0       0.3  \n",
       "94          sigmoid        NaN       10.0       0.5  \n",
       "97          sigmoid        NaN       10.0       0.7  \n",
       "100         sigmoid        NaN       15.0       0.3  \n",
       "103         sigmoid        NaN       15.0       0.5  \n",
       "106         sigmoid        NaN       15.0       0.7  "
      ]
     },
     "execution_count": 6,
     "metadata": {},
     "output_type": "execute_result"
    }
   ],
   "source": [
    "steps_1_to_100.loc[\n",
    "    (steps_1_to_100[\"matrix1\"] == \"real_perturbed\")\n",
    "    & (steps_1_to_100[\"matrix2\"] == \"predicted_perturbed\")\n",
    "]"
   ]
  },
  {
   "cell_type": "code",
   "execution_count": null,
   "id": "cd2134f1",
   "metadata": {},
   "outputs": [
    {
     "data": {
      "application/vnd.plotly.v1+json": {
       "config": {
        "plotlyServerURL": "https://plot.ly"
       },
       "data": [
        {
         "hovertemplate": "steps=%{x}<br>euclidean_distance=%{y}<extra></extra>",
         "legendgroup": "",
         "line": {
          "color": "#636efa",
          "dash": "solid"
         },
         "marker": {
          "symbol": "circle"
         },
         "mode": "lines",
         "name": "",
         "orientation": "v",
         "showlegend": false,
         "type": "scatter",
         "x": {
          "bdata": "AQEBAgICAwMDAQEBAQEBAQEBAgICAgICAgICAwMDAwMDAwMD",
          "dtype": "i1"
         },
         "xaxis": "x",
         "y": {
          "bdata": "3kGAnOQ+EkAbmJR15D4SQO+RtjTkPhJAv+1ZWuM+EkAVB+Xi4j4SQBM/zRviPhJADh3byuA+EkAZPIev3z4SQH/NUdfdPhJAuW6S7uA+EkCPqUIh2j4SQNAGBJbKPhJAXbKyFeU+EkBfj9465D4SQJEs3DbePhJA+50hN+U+EkA//wkj5T4SQPG8C5TjPhJAmhOE5dg+EkBm7a4VxD4SQH8f0lKUPhJAhbUV0OQ+EkAnaYIw4j4SQCaW/bnPPhJAVcr2NOU+EkAIq0v35D4SQH79sC7gPhJAdlqWCso+EkA79KLumD4SQAtY8ognPhJAESjNReQ+EkAr/zEN3j4SQDZY1UKyPhJAfw+UMOU+EkA5HlCe5D4SQBR8y0XZPhJA",
          "dtype": "f8"
         },
         "yaxis": "y"
        }
       ],
       "layout": {
        "legend": {
         "tracegroupgap": 0
        },
        "template": {
         "data": {
          "bar": [
           {
            "error_x": {
             "color": "#2a3f5f"
            },
            "error_y": {
             "color": "#2a3f5f"
            },
            "marker": {
             "line": {
              "color": "#E5ECF6",
              "width": 0.5
             },
             "pattern": {
              "fillmode": "overlay",
              "size": 10,
              "solidity": 0.2
             }
            },
            "type": "bar"
           }
          ],
          "barpolar": [
           {
            "marker": {
             "line": {
              "color": "#E5ECF6",
              "width": 0.5
             },
             "pattern": {
              "fillmode": "overlay",
              "size": 10,
              "solidity": 0.2
             }
            },
            "type": "barpolar"
           }
          ],
          "carpet": [
           {
            "aaxis": {
             "endlinecolor": "#2a3f5f",
             "gridcolor": "white",
             "linecolor": "white",
             "minorgridcolor": "white",
             "startlinecolor": "#2a3f5f"
            },
            "baxis": {
             "endlinecolor": "#2a3f5f",
             "gridcolor": "white",
             "linecolor": "white",
             "minorgridcolor": "white",
             "startlinecolor": "#2a3f5f"
            },
            "type": "carpet"
           }
          ],
          "choropleth": [
           {
            "colorbar": {
             "outlinewidth": 0,
             "ticks": ""
            },
            "type": "choropleth"
           }
          ],
          "contour": [
           {
            "colorbar": {
             "outlinewidth": 0,
             "ticks": ""
            },
            "colorscale": [
             [
              0,
              "#0d0887"
             ],
             [
              0.1111111111111111,
              "#46039f"
             ],
             [
              0.2222222222222222,
              "#7201a8"
             ],
             [
              0.3333333333333333,
              "#9c179e"
             ],
             [
              0.4444444444444444,
              "#bd3786"
             ],
             [
              0.5555555555555556,
              "#d8576b"
             ],
             [
              0.6666666666666666,
              "#ed7953"
             ],
             [
              0.7777777777777778,
              "#fb9f3a"
             ],
             [
              0.8888888888888888,
              "#fdca26"
             ],
             [
              1,
              "#f0f921"
             ]
            ],
            "type": "contour"
           }
          ],
          "contourcarpet": [
           {
            "colorbar": {
             "outlinewidth": 0,
             "ticks": ""
            },
            "type": "contourcarpet"
           }
          ],
          "heatmap": [
           {
            "colorbar": {
             "outlinewidth": 0,
             "ticks": ""
            },
            "colorscale": [
             [
              0,
              "#0d0887"
             ],
             [
              0.1111111111111111,
              "#46039f"
             ],
             [
              0.2222222222222222,
              "#7201a8"
             ],
             [
              0.3333333333333333,
              "#9c179e"
             ],
             [
              0.4444444444444444,
              "#bd3786"
             ],
             [
              0.5555555555555556,
              "#d8576b"
             ],
             [
              0.6666666666666666,
              "#ed7953"
             ],
             [
              0.7777777777777778,
              "#fb9f3a"
             ],
             [
              0.8888888888888888,
              "#fdca26"
             ],
             [
              1,
              "#f0f921"
             ]
            ],
            "type": "heatmap"
           }
          ],
          "histogram": [
           {
            "marker": {
             "pattern": {
              "fillmode": "overlay",
              "size": 10,
              "solidity": 0.2
             }
            },
            "type": "histogram"
           }
          ],
          "histogram2d": [
           {
            "colorbar": {
             "outlinewidth": 0,
             "ticks": ""
            },
            "colorscale": [
             [
              0,
              "#0d0887"
             ],
             [
              0.1111111111111111,
              "#46039f"
             ],
             [
              0.2222222222222222,
              "#7201a8"
             ],
             [
              0.3333333333333333,
              "#9c179e"
             ],
             [
              0.4444444444444444,
              "#bd3786"
             ],
             [
              0.5555555555555556,
              "#d8576b"
             ],
             [
              0.6666666666666666,
              "#ed7953"
             ],
             [
              0.7777777777777778,
              "#fb9f3a"
             ],
             [
              0.8888888888888888,
              "#fdca26"
             ],
             [
              1,
              "#f0f921"
             ]
            ],
            "type": "histogram2d"
           }
          ],
          "histogram2dcontour": [
           {
            "colorbar": {
             "outlinewidth": 0,
             "ticks": ""
            },
            "colorscale": [
             [
              0,
              "#0d0887"
             ],
             [
              0.1111111111111111,
              "#46039f"
             ],
             [
              0.2222222222222222,
              "#7201a8"
             ],
             [
              0.3333333333333333,
              "#9c179e"
             ],
             [
              0.4444444444444444,
              "#bd3786"
             ],
             [
              0.5555555555555556,
              "#d8576b"
             ],
             [
              0.6666666666666666,
              "#ed7953"
             ],
             [
              0.7777777777777778,
              "#fb9f3a"
             ],
             [
              0.8888888888888888,
              "#fdca26"
             ],
             [
              1,
              "#f0f921"
             ]
            ],
            "type": "histogram2dcontour"
           }
          ],
          "mesh3d": [
           {
            "colorbar": {
             "outlinewidth": 0,
             "ticks": ""
            },
            "type": "mesh3d"
           }
          ],
          "parcoords": [
           {
            "line": {
             "colorbar": {
              "outlinewidth": 0,
              "ticks": ""
             }
            },
            "type": "parcoords"
           }
          ],
          "pie": [
           {
            "automargin": true,
            "type": "pie"
           }
          ],
          "scatter": [
           {
            "fillpattern": {
             "fillmode": "overlay",
             "size": 10,
             "solidity": 0.2
            },
            "type": "scatter"
           }
          ],
          "scatter3d": [
           {
            "line": {
             "colorbar": {
              "outlinewidth": 0,
              "ticks": ""
             }
            },
            "marker": {
             "colorbar": {
              "outlinewidth": 0,
              "ticks": ""
             }
            },
            "type": "scatter3d"
           }
          ],
          "scattercarpet": [
           {
            "marker": {
             "colorbar": {
              "outlinewidth": 0,
              "ticks": ""
             }
            },
            "type": "scattercarpet"
           }
          ],
          "scattergeo": [
           {
            "marker": {
             "colorbar": {
              "outlinewidth": 0,
              "ticks": ""
             }
            },
            "type": "scattergeo"
           }
          ],
          "scattergl": [
           {
            "marker": {
             "colorbar": {
              "outlinewidth": 0,
              "ticks": ""
             }
            },
            "type": "scattergl"
           }
          ],
          "scattermap": [
           {
            "marker": {
             "colorbar": {
              "outlinewidth": 0,
              "ticks": ""
             }
            },
            "type": "scattermap"
           }
          ],
          "scattermapbox": [
           {
            "marker": {
             "colorbar": {
              "outlinewidth": 0,
              "ticks": ""
             }
            },
            "type": "scattermapbox"
           }
          ],
          "scatterpolar": [
           {
            "marker": {
             "colorbar": {
              "outlinewidth": 0,
              "ticks": ""
             }
            },
            "type": "scatterpolar"
           }
          ],
          "scatterpolargl": [
           {
            "marker": {
             "colorbar": {
              "outlinewidth": 0,
              "ticks": ""
             }
            },
            "type": "scatterpolargl"
           }
          ],
          "scatterternary": [
           {
            "marker": {
             "colorbar": {
              "outlinewidth": 0,
              "ticks": ""
             }
            },
            "type": "scatterternary"
           }
          ],
          "surface": [
           {
            "colorbar": {
             "outlinewidth": 0,
             "ticks": ""
            },
            "colorscale": [
             [
              0,
              "#0d0887"
             ],
             [
              0.1111111111111111,
              "#46039f"
             ],
             [
              0.2222222222222222,
              "#7201a8"
             ],
             [
              0.3333333333333333,
              "#9c179e"
             ],
             [
              0.4444444444444444,
              "#bd3786"
             ],
             [
              0.5555555555555556,
              "#d8576b"
             ],
             [
              0.6666666666666666,
              "#ed7953"
             ],
             [
              0.7777777777777778,
              "#fb9f3a"
             ],
             [
              0.8888888888888888,
              "#fdca26"
             ],
             [
              1,
              "#f0f921"
             ]
            ],
            "type": "surface"
           }
          ],
          "table": [
           {
            "cells": {
             "fill": {
              "color": "#EBF0F8"
             },
             "line": {
              "color": "white"
             }
            },
            "header": {
             "fill": {
              "color": "#C8D4E3"
             },
             "line": {
              "color": "white"
             }
            },
            "type": "table"
           }
          ]
         },
         "layout": {
          "annotationdefaults": {
           "arrowcolor": "#2a3f5f",
           "arrowhead": 0,
           "arrowwidth": 1
          },
          "autotypenumbers": "strict",
          "coloraxis": {
           "colorbar": {
            "outlinewidth": 0,
            "ticks": ""
           }
          },
          "colorscale": {
           "diverging": [
            [
             0,
             "#8e0152"
            ],
            [
             0.1,
             "#c51b7d"
            ],
            [
             0.2,
             "#de77ae"
            ],
            [
             0.3,
             "#f1b6da"
            ],
            [
             0.4,
             "#fde0ef"
            ],
            [
             0.5,
             "#f7f7f7"
            ],
            [
             0.6,
             "#e6f5d0"
            ],
            [
             0.7,
             "#b8e186"
            ],
            [
             0.8,
             "#7fbc41"
            ],
            [
             0.9,
             "#4d9221"
            ],
            [
             1,
             "#276419"
            ]
           ],
           "sequential": [
            [
             0,
             "#0d0887"
            ],
            [
             0.1111111111111111,
             "#46039f"
            ],
            [
             0.2222222222222222,
             "#7201a8"
            ],
            [
             0.3333333333333333,
             "#9c179e"
            ],
            [
             0.4444444444444444,
             "#bd3786"
            ],
            [
             0.5555555555555556,
             "#d8576b"
            ],
            [
             0.6666666666666666,
             "#ed7953"
            ],
            [
             0.7777777777777778,
             "#fb9f3a"
            ],
            [
             0.8888888888888888,
             "#fdca26"
            ],
            [
             1,
             "#f0f921"
            ]
           ],
           "sequentialminus": [
            [
             0,
             "#0d0887"
            ],
            [
             0.1111111111111111,
             "#46039f"
            ],
            [
             0.2222222222222222,
             "#7201a8"
            ],
            [
             0.3333333333333333,
             "#9c179e"
            ],
            [
             0.4444444444444444,
             "#bd3786"
            ],
            [
             0.5555555555555556,
             "#d8576b"
            ],
            [
             0.6666666666666666,
             "#ed7953"
            ],
            [
             0.7777777777777778,
             "#fb9f3a"
            ],
            [
             0.8888888888888888,
             "#fdca26"
            ],
            [
             1,
             "#f0f921"
            ]
           ]
          },
          "colorway": [
           "#636efa",
           "#EF553B",
           "#00cc96",
           "#ab63fa",
           "#FFA15A",
           "#19d3f3",
           "#FF6692",
           "#B6E880",
           "#FF97FF",
           "#FECB52"
          ],
          "font": {
           "color": "#2a3f5f"
          },
          "geo": {
           "bgcolor": "white",
           "lakecolor": "white",
           "landcolor": "#E5ECF6",
           "showlakes": true,
           "showland": true,
           "subunitcolor": "white"
          },
          "hoverlabel": {
           "align": "left"
          },
          "hovermode": "closest",
          "mapbox": {
           "style": "light"
          },
          "paper_bgcolor": "white",
          "plot_bgcolor": "#E5ECF6",
          "polar": {
           "angularaxis": {
            "gridcolor": "white",
            "linecolor": "white",
            "ticks": ""
           },
           "bgcolor": "#E5ECF6",
           "radialaxis": {
            "gridcolor": "white",
            "linecolor": "white",
            "ticks": ""
           }
          },
          "scene": {
           "xaxis": {
            "backgroundcolor": "#E5ECF6",
            "gridcolor": "white",
            "gridwidth": 2,
            "linecolor": "white",
            "showbackground": true,
            "ticks": "",
            "zerolinecolor": "white"
           },
           "yaxis": {
            "backgroundcolor": "#E5ECF6",
            "gridcolor": "white",
            "gridwidth": 2,
            "linecolor": "white",
            "showbackground": true,
            "ticks": "",
            "zerolinecolor": "white"
           },
           "zaxis": {
            "backgroundcolor": "#E5ECF6",
            "gridcolor": "white",
            "gridwidth": 2,
            "linecolor": "white",
            "showbackground": true,
            "ticks": "",
            "zerolinecolor": "white"
           }
          },
          "shapedefaults": {
           "line": {
            "color": "#2a3f5f"
           }
          },
          "ternary": {
           "aaxis": {
            "gridcolor": "white",
            "linecolor": "white",
            "ticks": ""
           },
           "baxis": {
            "gridcolor": "white",
            "linecolor": "white",
            "ticks": ""
           },
           "bgcolor": "#E5ECF6",
           "caxis": {
            "gridcolor": "white",
            "linecolor": "white",
            "ticks": ""
           }
          },
          "title": {
           "x": 0.05
          },
          "xaxis": {
           "automargin": true,
           "gridcolor": "white",
           "linecolor": "white",
           "ticks": "",
           "title": {
            "standoff": 15
           },
           "zerolinecolor": "white",
           "zerolinewidth": 2
          },
          "yaxis": {
           "automargin": true,
           "gridcolor": "white",
           "linecolor": "white",
           "ticks": "",
           "title": {
            "standoff": 15
           },
           "zerolinecolor": "white",
           "zerolinewidth": 2
          }
         }
        },
        "title": {
         "text": "Score vs Step for Different Perturbation Algorithms"
        },
        "xaxis": {
         "anchor": "y",
         "domain": [
          0,
          1
         ],
         "title": {
          "text": "steps"
         }
        },
        "yaxis": {
         "anchor": "x",
         "domain": [
          0,
          1
         ],
         "title": {
          "text": "euclidean_distance"
         }
        }
       }
      }
     },
     "metadata": {},
     "output_type": "display_data"
    }
   ],
   "source": [
    "px.line(\n",
    "    steps_1_to_100.loc[\n",
    "        (steps_1_to_100[\"matrix1\"] == \"real_perturbed\")\n",
    "        & (steps_1_to_100[\"matrix2\"] == \"predicted_perturbed\")\n",
    "    ],\n",
    "    x=\"steps\",\n",
    "    y=\"euclidean_distance\",\n",
    "    title=\"Score vs Step for Different Perturbation Algorithms\",\n",
    ").show()"
   ]
  }
 ],
 "metadata": {
  "kernelspec": {
   "display_name": "experimenting",
   "language": "python",
   "name": "python3"
  },
  "language_info": {
   "codemirror_mode": {
    "name": "ipython",
    "version": 3
   },
   "file_extension": ".py",
   "mimetype": "text/x-python",
   "name": "python",
   "nbconvert_exporter": "python",
   "pygments_lexer": "ipython3",
   "version": "3.10.18"
  }
 },
 "nbformat": 4,
 "nbformat_minor": 5
}
